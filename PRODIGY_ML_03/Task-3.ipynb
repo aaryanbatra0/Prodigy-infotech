{
 "cells": [
  {
   "cell_type": "markdown",
   "id": "6282f39b",
   "metadata": {
    "papermill": {
     "duration": 0.02303,
     "end_time": "2021-12-09T16:40:52.177750",
     "exception": false,
     "start_time": "2021-12-09T16:40:52.154720",
     "status": "completed"
    },
    "tags": []
   },
   "source": [
    "# **Introduction** \n",
    "\n",
    "![](https://miro.medium.com/max/1400/1*oB3S5yHHhvougJkPXuc8og.gif)\n",
    "\n",
    "## **What is Image classification?**\n",
    "**Image classification is the process of categorizing and labeling groups of pixels or vectors within an image based on specific rules. The categorization law can be devised using one or more spectral or textural characteristics.**\n",
    "\n",
    "##  **Different image classification techniques:-**\n",
    "![](https://raw.githubusercontent.com/everydaycodings/files-for-multiplethings/master/1.png)"
   ]
  },
  {
   "cell_type": "markdown",
   "id": "e766d1d7",
   "metadata": {
    "papermill": {
     "duration": 0.021852,
     "end_time": "2021-12-09T16:40:52.223259",
     "exception": false,
     "start_time": "2021-12-09T16:40:52.201407",
     "status": "completed"
    },
    "tags": []
   },
   "source": [
    "## **Importing libraries**"
   ]
  },
  {
   "cell_type": "code",
   "execution_count": 5,
   "id": "5005caf9",
   "metadata": {
    "execution": {
     "iopub.execute_input": "2021-12-09T16:40:52.277989Z",
     "iopub.status.busy": "2021-12-09T16:40:52.277265Z",
     "iopub.status.idle": "2021-12-09T16:40:56.308366Z",
     "shell.execute_reply": "2021-12-09T16:40:56.307349Z",
     "shell.execute_reply.started": "2021-12-09T16:12:49.375038Z"
    },
    "papermill": {
     "duration": 4.063465,
     "end_time": "2021-12-09T16:40:56.308532",
     "exception": false,
     "start_time": "2021-12-09T16:40:52.245067",
     "status": "completed"
    },
    "tags": []
   },
   "outputs": [],
   "source": [
    "# Importing the basic libraries\n",
    "import numpy as np\n",
    "import pandas as pd\n",
    "import matplotlib.pyplot as plt\n",
    "import seaborn as sns\n",
    "\n",
    "import tensorflow as tf\n",
    "from tensorflow.keras import layers, models\n",
    "from tensorflow.keras.preprocessing.image import ImageDataGenerator\n",
    "\n",
    "import warnings\n",
    "warnings.filterwarnings('ignore')"
   ]
  },
  {
   "cell_type": "markdown",
   "id": "a09a22b6",
   "metadata": {
    "papermill": {
     "duration": 0.02381,
     "end_time": "2021-12-09T16:40:58.505057",
     "exception": false,
     "start_time": "2021-12-09T16:40:58.481247",
     "status": "completed"
    },
    "tags": []
   },
   "source": [
    "## **Preprocessing the training Data using ImageDataGenerator**\n",
    "**One of the methods to prevent overfitting is to have more data. By this, our model will be exposed to more aspects of data and thus will generalize better. To get more data, either you manually collect data or generate data from the existing data by applying some transformations. The latter method is known as Data Augmentation.**\n",
    "\n",
    " - **rescale:** rescaling factor. If None or 0, no rescaling is applied, otherwise we multiply the data by the value provided.\n",
    " - **shear_range:** This is the shear angle in the counter-clockwise direction in degrees.\n",
    " - **zoom_range:** This zooms the image.\n",
    " - **horizontal_flip:** Randomly flips the input image in the horizontal direction.\n"
   ]
  },
  {
   "cell_type": "code",
   "execution_count": 6,
   "id": "7b25bb3c",
   "metadata": {
    "execution": {
     "iopub.execute_input": "2021-12-09T16:40:58.555137Z",
     "iopub.status.busy": "2021-12-09T16:40:58.554344Z",
     "iopub.status.idle": "2021-12-09T16:41:01.112941Z",
     "shell.execute_reply": "2021-12-09T16:41:01.113516Z",
     "shell.execute_reply.started": "2021-12-09T16:12:49.401944Z"
    },
    "papermill": {
     "duration": 2.586195,
     "end_time": "2021-12-09T16:41:01.113744",
     "exception": false,
     "start_time": "2021-12-09T16:40:58.527549",
     "status": "completed"
    },
    "tags": []
   },
   "outputs": [
    {
     "name": "stdout",
     "output_type": "stream",
     "text": [
      "Found 25000 images belonging to 1 classes.\n"
     ]
    }
   ],
   "source": [
    "from tensorflow.keras.preprocessing.image import ImageDataGenerator\n",
    "\n",
    "datagen = ImageDataGenerator(rescale=1./255, shear_range=0.2, zoom_range=0.2, horizontal_flip=True)\n",
    "\n",
    "training_set = datagen.flow_from_directory(\n",
    "        \"Data/train\",\n",
    "        target_size=(64, 64),\n",
    "        batch_size=32,\n",
    "        class_mode=\"binary\"\n",
    "      )\n"
   ]
  },
  {
   "cell_type": "markdown",
   "id": "178346cd",
   "metadata": {
    "papermill": {
     "duration": 0.034913,
     "end_time": "2021-12-09T16:41:01.184943",
     "exception": false,
     "start_time": "2021-12-09T16:41:01.150030",
     "status": "completed"
    },
    "tags": []
   },
   "source": [
    "### **Preprocessing the test Data using ImageDataGenerator**"
   ]
  },
  {
   "cell_type": "code",
   "execution_count": 7,
   "id": "33356abb",
   "metadata": {
    "execution": {
     "iopub.execute_input": "2021-12-09T16:41:01.261890Z",
     "iopub.status.busy": "2021-12-09T16:41:01.261094Z",
     "iopub.status.idle": "2021-12-09T16:41:01.488030Z",
     "shell.execute_reply": "2021-12-09T16:41:01.488803Z",
     "shell.execute_reply.started": "2021-12-09T16:12:50.933152Z"
    },
    "papermill": {
     "duration": 0.269435,
     "end_time": "2021-12-09T16:41:01.489070",
     "exception": false,
     "start_time": "2021-12-09T16:41:01.219635",
     "status": "completed"
    },
    "tags": []
   },
   "outputs": [
    {
     "name": "stdout",
     "output_type": "stream",
     "text": [
      "Found 12500 images belonging to 1 classes.\n"
     ]
    }
   ],
   "source": [
    "datagen1 = ImageDataGenerator(rescale=1./255)\n",
    "\n",
    "test_set = datagen1.flow_from_directory(\n",
    "        \"Data/test1\",\n",
    "        target_size=(64, 64),\n",
    "        batch_size=32,\n",
    "        class_mode=\"binary\"\n",
    "      )"
   ]
  },
  {
   "cell_type": "markdown",
   "id": "3ac28e91",
   "metadata": {
    "papermill": {
     "duration": 0.037747,
     "end_time": "2021-12-09T16:41:01.640320",
     "exception": false,
     "start_time": "2021-12-09T16:41:01.602573",
     "status": "completed"
    },
    "tags": []
   },
   "source": [
    "# **Creating the Model**\n",
    "### Importing useful models for CNN Layers"
   ]
  },
  {
   "cell_type": "code",
   "execution_count": 8,
   "id": "17f5510d",
   "metadata": {
    "execution": {
     "iopub.execute_input": "2021-12-09T16:41:01.723446Z",
     "iopub.status.busy": "2021-12-09T16:41:01.722577Z",
     "iopub.status.idle": "2021-12-09T16:41:01.724800Z",
     "shell.execute_reply": "2021-12-09T16:41:01.724153Z",
     "shell.execute_reply.started": "2021-12-09T16:12:51.049994Z"
    },
    "papermill": {
     "duration": 0.047156,
     "end_time": "2021-12-09T16:41:01.724965",
     "exception": false,
     "start_time": "2021-12-09T16:41:01.677809",
     "status": "completed"
    },
    "tags": []
   },
   "outputs": [],
   "source": [
    "from tensorflow.keras.layers import Conv2D\n",
    "from tensorflow.keras.layers import Dense\n",
    "from tensorflow.keras.regularizers import l2"
   ]
  },
  {
   "cell_type": "markdown",
   "id": "2d3060ab",
   "metadata": {
    "papermill": {
     "duration": 0.036972,
     "end_time": "2021-12-09T16:41:01.884935",
     "exception": false,
     "start_time": "2021-12-09T16:41:01.847963",
     "status": "completed"
    },
    "tags": []
   },
   "source": [
    "### When to use a Sequential model\n",
    "\n",
    "A Sequential model is appropriate for a plain stack of layers where each layer has exactly one input tensor and one output tensor.\n",
    "\n",
    "A Sequential model is **not appropriate** when:\n",
    "- Your model has multiple inputs or multiple outputs\n",
    "- Any of your layers has multiple inputs or multiple outputs\n",
    "- You need to do layer sharing\n",
    "- You want non-linear topology (e.g. a residual connection, a multi-branch model)\n"
   ]
  },
  {
   "cell_type": "code",
   "execution_count": 9,
   "id": "47928ef6",
   "metadata": {
    "execution": {
     "iopub.execute_input": "2021-12-09T16:41:01.948751Z",
     "iopub.status.busy": "2021-12-09T16:41:01.948155Z",
     "iopub.status.idle": "2021-12-09T16:41:01.987460Z",
     "shell.execute_reply": "2021-12-09T16:41:01.987920Z",
     "shell.execute_reply.started": "2021-12-09T16:12:51.066484Z"
    },
    "papermill": {
     "duration": 0.066833,
     "end_time": "2021-12-09T16:41:01.988055",
     "exception": false,
     "start_time": "2021-12-09T16:41:01.921222",
     "status": "completed"
    },
    "tags": []
   },
   "outputs": [],
   "source": [
    "cnn = tf.keras.models.Sequential()"
   ]
  },
  {
   "cell_type": "markdown",
   "id": "53029d6b",
   "metadata": {
    "papermill": {
     "duration": 0.0235,
     "end_time": "2021-12-09T16:41:02.035218",
     "exception": false,
     "start_time": "2021-12-09T16:41:02.011718",
     "status": "completed"
    },
    "tags": []
   },
   "source": [
    "### Step 1 - **Convolution**\n",
    "This layer creates a convolution kernel that is convolved with the layer input to produce a tensor of outputs. If use_bias is True, a bias vector is created and added to the outputs. Finally, if activation is not None, it is applied to the outputs as well.\n",
    "\n",
    "When using this layer as the first layer in a model, provide the keyword argument input_shape (tuple of integers or None, does not include the sample axis), e.g. `input_shape=(64, 64, 3)` for 64x64 RGB pictures in `data_format=\"channels_last\"`. You can use None when a dimension has variable size.\n",
    "\n",
    "**Arguments Used:**\n",
    "- **filters:** Integer, the dimensionality of the output space.\n",
    "- **padding:** one of \"valid\" or \"same\". \"valid\" means no padding. \"same\" results in padding with zeros evenly to the left/right or up/down of the input such that output has the same height/width dimension as the input.\n",
    "- **kernel_size:** An integer or tuple/list of 2 integers, specifying the height and width of the 2D convolution window.\n",
    "- **activation:** Activation function to use. If you don't specify anything, no activation is applied.\n",
    "- **strides:** An integer or tuple/list of 2 integers, specifying the strides of the convolution along the height and width."
   ]
  },
  {
   "cell_type": "code",
   "execution_count": 10,
   "id": "606c2e76",
   "metadata": {
    "execution": {
     "iopub.execute_input": "2021-12-09T16:41:02.094073Z",
     "iopub.status.busy": "2021-12-09T16:41:02.091109Z",
     "iopub.status.idle": "2021-12-09T16:41:02.127810Z",
     "shell.execute_reply": "2021-12-09T16:41:02.127413Z",
     "shell.execute_reply.started": "2021-12-09T16:12:51.078905Z"
    },
    "papermill": {
     "duration": 0.069426,
     "end_time": "2021-12-09T16:41:02.127954",
     "exception": false,
     "start_time": "2021-12-09T16:41:02.058528",
     "status": "completed"
    },
    "tags": []
   },
   "outputs": [],
   "source": [
    "cnn.add(tf.keras.layers.Conv2D(filters=32,padding=\"same\",kernel_size=3, activation='relu', strides=2, input_shape=[64, 64, 3]))"
   ]
  },
  {
   "cell_type": "markdown",
   "id": "06a345cc",
   "metadata": {
    "papermill": {
     "duration": 0.023143,
     "end_time": "2021-12-09T16:41:02.174544",
     "exception": false,
     "start_time": "2021-12-09T16:41:02.151401",
     "status": "completed"
    },
    "tags": []
   },
   "source": [
    "### Step 2 - **Pooling**\n",
    "Downsamples the input along its spatial dimensions (height and width) by taking the maximum value over an input window (of size defined by pool_size) for each channel of the input. The window is shifted by strides along each dimension."
   ]
  },
  {
   "cell_type": "code",
   "execution_count": 11,
   "id": "d6abdcf7",
   "metadata": {
    "execution": {
     "iopub.execute_input": "2021-12-09T16:41:02.234084Z",
     "iopub.status.busy": "2021-12-09T16:41:02.231455Z",
     "iopub.status.idle": "2021-12-09T16:41:02.239047Z",
     "shell.execute_reply": "2021-12-09T16:41:02.238539Z",
     "shell.execute_reply.started": "2021-12-09T16:12:51.096071Z"
    },
    "papermill": {
     "duration": 0.039407,
     "end_time": "2021-12-09T16:41:02.239164",
     "exception": false,
     "start_time": "2021-12-09T16:41:02.199757",
     "status": "completed"
    },
    "tags": []
   },
   "outputs": [],
   "source": [
    "cnn.add(tf.keras.layers.MaxPool2D(pool_size=2, strides=2))"
   ]
  },
  {
   "cell_type": "markdown",
   "id": "e1ea4f85",
   "metadata": {
    "papermill": {
     "duration": 0.025212,
     "end_time": "2021-12-09T16:41:02.290614",
     "exception": false,
     "start_time": "2021-12-09T16:41:02.265402",
     "status": "completed"
    },
    "tags": []
   },
   "source": [
    "### **Adding a second convolutional layer**"
   ]
  },
  {
   "cell_type": "code",
   "execution_count": 12,
   "id": "5e83d557",
   "metadata": {
    "execution": {
     "iopub.execute_input": "2021-12-09T16:41:02.347715Z",
     "iopub.status.busy": "2021-12-09T16:41:02.346896Z",
     "iopub.status.idle": "2021-12-09T16:41:02.357173Z",
     "shell.execute_reply": "2021-12-09T16:41:02.356718Z",
     "shell.execute_reply.started": "2021-12-09T16:12:51.106671Z"
    },
    "papermill": {
     "duration": 0.041315,
     "end_time": "2021-12-09T16:41:02.357277",
     "exception": false,
     "start_time": "2021-12-09T16:41:02.315962",
     "status": "completed"
    },
    "tags": []
   },
   "outputs": [],
   "source": [
    "cnn.add(tf.keras.layers.Conv2D(filters=32,padding='same',kernel_size=3, activation='relu'))\n",
    "cnn.add(tf.keras.layers.MaxPool2D(pool_size=2, strides=2))"
   ]
  },
  {
   "cell_type": "markdown",
   "id": "058cba68",
   "metadata": {
    "papermill": {
     "duration": 0.023688,
     "end_time": "2021-12-09T16:41:02.404906",
     "exception": false,
     "start_time": "2021-12-09T16:41:02.381218",
     "status": "completed"
    },
    "tags": []
   },
   "source": [
    "### Step 3 - **Flattening**\n",
    "**Flattens the input. Does not affect the batch size.**\n",
    "\n",
    "**Note:** If inputs are shaped (batch,) without a feature axis, then flattening adds an extra channel dimension and output shape is (batch, 1)."
   ]
  },
  {
   "cell_type": "code",
   "execution_count": 13,
   "id": "2739732c",
   "metadata": {
    "execution": {
     "iopub.execute_input": "2021-12-09T16:41:02.456520Z",
     "iopub.status.busy": "2021-12-09T16:41:02.456002Z",
     "iopub.status.idle": "2021-12-09T16:41:02.461973Z",
     "shell.execute_reply": "2021-12-09T16:41:02.461543Z",
     "shell.execute_reply.started": "2021-12-09T16:12:51.124106Z"
    },
    "papermill": {
     "duration": 0.033814,
     "end_time": "2021-12-09T16:41:02.462102",
     "exception": false,
     "start_time": "2021-12-09T16:41:02.428288",
     "status": "completed"
    },
    "tags": []
   },
   "outputs": [],
   "source": [
    "cnn.add(tf.keras.layers.Flatten())"
   ]
  },
  {
   "cell_type": "markdown",
   "id": "cf70e899",
   "metadata": {
    "papermill": {
     "duration": 0.031548,
     "end_time": "2021-12-09T16:41:02.517104",
     "exception": false,
     "start_time": "2021-12-09T16:41:02.485556",
     "status": "completed"
    },
    "tags": []
   },
   "source": [
    "### Step 4 - **Full Connection**"
   ]
  },
  {
   "cell_type": "code",
   "execution_count": 14,
   "id": "b242f827",
   "metadata": {
    "execution": {
     "iopub.execute_input": "2021-12-09T16:41:02.573498Z",
     "iopub.status.busy": "2021-12-09T16:41:02.572682Z",
     "iopub.status.idle": "2021-12-09T16:41:02.577713Z",
     "shell.execute_reply": "2021-12-09T16:41:02.577327Z",
     "shell.execute_reply.started": "2021-12-09T16:12:51.136721Z"
    },
    "papermill": {
     "duration": 0.037421,
     "end_time": "2021-12-09T16:41:02.577814",
     "exception": false,
     "start_time": "2021-12-09T16:41:02.540393",
     "status": "completed"
    },
    "tags": []
   },
   "outputs": [],
   "source": [
    "cnn.add(tf.keras.layers.Dense(units=128, activation='relu'))"
   ]
  },
  {
   "cell_type": "markdown",
   "id": "c72375b1",
   "metadata": {
    "papermill": {
     "duration": 0.023366,
     "end_time": "2021-12-09T16:41:02.624556",
     "exception": false,
     "start_time": "2021-12-09T16:41:02.601190",
     "status": "completed"
    },
    "tags": []
   },
   "source": [
    "### Step 5 - **Output Layer**"
   ]
  },
  {
   "cell_type": "code",
   "execution_count": 15,
   "id": "2cd64d7c",
   "metadata": {
    "execution": {
     "iopub.execute_input": "2021-12-09T16:41:02.678489Z",
     "iopub.status.busy": "2021-12-09T16:41:02.674631Z",
     "iopub.status.idle": "2021-12-09T16:41:02.685467Z",
     "shell.execute_reply": "2021-12-09T16:41:02.685061Z",
     "shell.execute_reply.started": "2021-12-09T16:12:51.151023Z"
    },
    "papermill": {
     "duration": 0.037286,
     "end_time": "2021-12-09T16:41:02.685571",
     "exception": false,
     "start_time": "2021-12-09T16:41:02.648285",
     "status": "completed"
    },
    "tags": []
   },
   "outputs": [],
   "source": [
    "cnn.add(Dense(1, kernel_regularizer=tf.keras.regularizers.l2(0.01),activation\n",
    "             ='linear'))"
   ]
  },
  {
   "cell_type": "markdown",
   "id": "d6310fd9",
   "metadata": {
    "papermill": {
     "duration": 0.023194,
     "end_time": "2021-12-09T16:41:02.732058",
     "exception": false,
     "start_time": "2021-12-09T16:41:02.708864",
     "status": "completed"
    },
    "tags": []
   },
   "source": [
    "### **Printing out the summary of the Layers**"
   ]
  },
  {
   "cell_type": "code",
   "execution_count": 16,
   "id": "afedf5ac",
   "metadata": {
    "execution": {
     "iopub.execute_input": "2021-12-09T16:41:02.784390Z",
     "iopub.status.busy": "2021-12-09T16:41:02.783255Z",
     "iopub.status.idle": "2021-12-09T16:41:02.789302Z",
     "shell.execute_reply": "2021-12-09T16:41:02.789952Z",
     "shell.execute_reply.started": "2021-12-09T16:12:51.165547Z"
    },
    "papermill": {
     "duration": 0.034184,
     "end_time": "2021-12-09T16:41:02.790106",
     "exception": false,
     "start_time": "2021-12-09T16:41:02.755922",
     "status": "completed"
    },
    "tags": []
   },
   "outputs": [
    {
     "data": {
      "text/html": [
       "<pre style=\"white-space:pre;overflow-x:auto;line-height:normal;font-family:Menlo,'DejaVu Sans Mono',consolas,'Courier New',monospace\"><span style=\"font-weight: bold\">Model: \"sequential\"</span>\n",
       "</pre>\n"
      ],
      "text/plain": [
       "\u001b[1mModel: \"sequential\"\u001b[0m\n"
      ]
     },
     "metadata": {},
     "output_type": "display_data"
    },
    {
     "data": {
      "text/html": [
       "<pre style=\"white-space:pre;overflow-x:auto;line-height:normal;font-family:Menlo,'DejaVu Sans Mono',consolas,'Courier New',monospace\">┏━━━━━━━━━━━━━━━━━━━━━━━━━━━━━━━━━┳━━━━━━━━━━━━━━━━━━━━━━━━┳━━━━━━━━━━━━━━━┓\n",
       "┃<span style=\"font-weight: bold\"> Layer (type)                    </span>┃<span style=\"font-weight: bold\"> Output Shape           </span>┃<span style=\"font-weight: bold\">       Param # </span>┃\n",
       "┡━━━━━━━━━━━━━━━━━━━━━━━━━━━━━━━━━╇━━━━━━━━━━━━━━━━━━━━━━━━╇━━━━━━━━━━━━━━━┩\n",
       "│ conv2d (<span style=\"color: #0087ff; text-decoration-color: #0087ff\">Conv2D</span>)                 │ (<span style=\"color: #00d7ff; text-decoration-color: #00d7ff\">None</span>, <span style=\"color: #00af00; text-decoration-color: #00af00\">32</span>, <span style=\"color: #00af00; text-decoration-color: #00af00\">32</span>, <span style=\"color: #00af00; text-decoration-color: #00af00\">32</span>)     │           <span style=\"color: #00af00; text-decoration-color: #00af00\">896</span> │\n",
       "├─────────────────────────────────┼────────────────────────┼───────────────┤\n",
       "│ max_pooling2d (<span style=\"color: #0087ff; text-decoration-color: #0087ff\">MaxPooling2D</span>)    │ (<span style=\"color: #00d7ff; text-decoration-color: #00d7ff\">None</span>, <span style=\"color: #00af00; text-decoration-color: #00af00\">16</span>, <span style=\"color: #00af00; text-decoration-color: #00af00\">16</span>, <span style=\"color: #00af00; text-decoration-color: #00af00\">32</span>)     │             <span style=\"color: #00af00; text-decoration-color: #00af00\">0</span> │\n",
       "├─────────────────────────────────┼────────────────────────┼───────────────┤\n",
       "│ conv2d_1 (<span style=\"color: #0087ff; text-decoration-color: #0087ff\">Conv2D</span>)               │ (<span style=\"color: #00d7ff; text-decoration-color: #00d7ff\">None</span>, <span style=\"color: #00af00; text-decoration-color: #00af00\">16</span>, <span style=\"color: #00af00; text-decoration-color: #00af00\">16</span>, <span style=\"color: #00af00; text-decoration-color: #00af00\">32</span>)     │         <span style=\"color: #00af00; text-decoration-color: #00af00\">9,248</span> │\n",
       "├─────────────────────────────────┼────────────────────────┼───────────────┤\n",
       "│ max_pooling2d_1 (<span style=\"color: #0087ff; text-decoration-color: #0087ff\">MaxPooling2D</span>)  │ (<span style=\"color: #00d7ff; text-decoration-color: #00d7ff\">None</span>, <span style=\"color: #00af00; text-decoration-color: #00af00\">8</span>, <span style=\"color: #00af00; text-decoration-color: #00af00\">8</span>, <span style=\"color: #00af00; text-decoration-color: #00af00\">32</span>)       │             <span style=\"color: #00af00; text-decoration-color: #00af00\">0</span> │\n",
       "├─────────────────────────────────┼────────────────────────┼───────────────┤\n",
       "│ flatten (<span style=\"color: #0087ff; text-decoration-color: #0087ff\">Flatten</span>)               │ (<span style=\"color: #00d7ff; text-decoration-color: #00d7ff\">None</span>, <span style=\"color: #00af00; text-decoration-color: #00af00\">2048</span>)           │             <span style=\"color: #00af00; text-decoration-color: #00af00\">0</span> │\n",
       "├─────────────────────────────────┼────────────────────────┼───────────────┤\n",
       "│ dense (<span style=\"color: #0087ff; text-decoration-color: #0087ff\">Dense</span>)                   │ (<span style=\"color: #00d7ff; text-decoration-color: #00d7ff\">None</span>, <span style=\"color: #00af00; text-decoration-color: #00af00\">128</span>)            │       <span style=\"color: #00af00; text-decoration-color: #00af00\">262,272</span> │\n",
       "├─────────────────────────────────┼────────────────────────┼───────────────┤\n",
       "│ dense_1 (<span style=\"color: #0087ff; text-decoration-color: #0087ff\">Dense</span>)                 │ (<span style=\"color: #00d7ff; text-decoration-color: #00d7ff\">None</span>, <span style=\"color: #00af00; text-decoration-color: #00af00\">1</span>)              │           <span style=\"color: #00af00; text-decoration-color: #00af00\">129</span> │\n",
       "└─────────────────────────────────┴────────────────────────┴───────────────┘\n",
       "</pre>\n"
      ],
      "text/plain": [
       "┏━━━━━━━━━━━━━━━━━━━━━━━━━━━━━━━━━┳━━━━━━━━━━━━━━━━━━━━━━━━┳━━━━━━━━━━━━━━━┓\n",
       "┃\u001b[1m \u001b[0m\u001b[1mLayer (type)                   \u001b[0m\u001b[1m \u001b[0m┃\u001b[1m \u001b[0m\u001b[1mOutput Shape          \u001b[0m\u001b[1m \u001b[0m┃\u001b[1m \u001b[0m\u001b[1m      Param #\u001b[0m\u001b[1m \u001b[0m┃\n",
       "┡━━━━━━━━━━━━━━━━━━━━━━━━━━━━━━━━━╇━━━━━━━━━━━━━━━━━━━━━━━━╇━━━━━━━━━━━━━━━┩\n",
       "│ conv2d (\u001b[38;5;33mConv2D\u001b[0m)                 │ (\u001b[38;5;45mNone\u001b[0m, \u001b[38;5;34m32\u001b[0m, \u001b[38;5;34m32\u001b[0m, \u001b[38;5;34m32\u001b[0m)     │           \u001b[38;5;34m896\u001b[0m │\n",
       "├─────────────────────────────────┼────────────────────────┼───────────────┤\n",
       "│ max_pooling2d (\u001b[38;5;33mMaxPooling2D\u001b[0m)    │ (\u001b[38;5;45mNone\u001b[0m, \u001b[38;5;34m16\u001b[0m, \u001b[38;5;34m16\u001b[0m, \u001b[38;5;34m32\u001b[0m)     │             \u001b[38;5;34m0\u001b[0m │\n",
       "├─────────────────────────────────┼────────────────────────┼───────────────┤\n",
       "│ conv2d_1 (\u001b[38;5;33mConv2D\u001b[0m)               │ (\u001b[38;5;45mNone\u001b[0m, \u001b[38;5;34m16\u001b[0m, \u001b[38;5;34m16\u001b[0m, \u001b[38;5;34m32\u001b[0m)     │         \u001b[38;5;34m9,248\u001b[0m │\n",
       "├─────────────────────────────────┼────────────────────────┼───────────────┤\n",
       "│ max_pooling2d_1 (\u001b[38;5;33mMaxPooling2D\u001b[0m)  │ (\u001b[38;5;45mNone\u001b[0m, \u001b[38;5;34m8\u001b[0m, \u001b[38;5;34m8\u001b[0m, \u001b[38;5;34m32\u001b[0m)       │             \u001b[38;5;34m0\u001b[0m │\n",
       "├─────────────────────────────────┼────────────────────────┼───────────────┤\n",
       "│ flatten (\u001b[38;5;33mFlatten\u001b[0m)               │ (\u001b[38;5;45mNone\u001b[0m, \u001b[38;5;34m2048\u001b[0m)           │             \u001b[38;5;34m0\u001b[0m │\n",
       "├─────────────────────────────────┼────────────────────────┼───────────────┤\n",
       "│ dense (\u001b[38;5;33mDense\u001b[0m)                   │ (\u001b[38;5;45mNone\u001b[0m, \u001b[38;5;34m128\u001b[0m)            │       \u001b[38;5;34m262,272\u001b[0m │\n",
       "├─────────────────────────────────┼────────────────────────┼───────────────┤\n",
       "│ dense_1 (\u001b[38;5;33mDense\u001b[0m)                 │ (\u001b[38;5;45mNone\u001b[0m, \u001b[38;5;34m1\u001b[0m)              │           \u001b[38;5;34m129\u001b[0m │\n",
       "└─────────────────────────────────┴────────────────────────┴───────────────┘\n"
      ]
     },
     "metadata": {},
     "output_type": "display_data"
    },
    {
     "data": {
      "text/html": [
       "<pre style=\"white-space:pre;overflow-x:auto;line-height:normal;font-family:Menlo,'DejaVu Sans Mono',consolas,'Courier New',monospace\"><span style=\"font-weight: bold\"> Total params: </span><span style=\"color: #00af00; text-decoration-color: #00af00\">272,545</span> (1.04 MB)\n",
       "</pre>\n"
      ],
      "text/plain": [
       "\u001b[1m Total params: \u001b[0m\u001b[38;5;34m272,545\u001b[0m (1.04 MB)\n"
      ]
     },
     "metadata": {},
     "output_type": "display_data"
    },
    {
     "data": {
      "text/html": [
       "<pre style=\"white-space:pre;overflow-x:auto;line-height:normal;font-family:Menlo,'DejaVu Sans Mono',consolas,'Courier New',monospace\"><span style=\"font-weight: bold\"> Trainable params: </span><span style=\"color: #00af00; text-decoration-color: #00af00\">272,545</span> (1.04 MB)\n",
       "</pre>\n"
      ],
      "text/plain": [
       "\u001b[1m Trainable params: \u001b[0m\u001b[38;5;34m272,545\u001b[0m (1.04 MB)\n"
      ]
     },
     "metadata": {},
     "output_type": "display_data"
    },
    {
     "data": {
      "text/html": [
       "<pre style=\"white-space:pre;overflow-x:auto;line-height:normal;font-family:Menlo,'DejaVu Sans Mono',consolas,'Courier New',monospace\"><span style=\"font-weight: bold\"> Non-trainable params: </span><span style=\"color: #00af00; text-decoration-color: #00af00\">0</span> (0.00 B)\n",
       "</pre>\n"
      ],
      "text/plain": [
       "\u001b[1m Non-trainable params: \u001b[0m\u001b[38;5;34m0\u001b[0m (0.00 B)\n"
      ]
     },
     "metadata": {},
     "output_type": "display_data"
    }
   ],
   "source": [
    "cnn.summary()"
   ]
  },
  {
   "cell_type": "markdown",
   "id": "feaa7562",
   "metadata": {
    "papermill": {
     "duration": 0.023612,
     "end_time": "2021-12-09T16:41:02.886758",
     "exception": false,
     "start_time": "2021-12-09T16:41:02.863146",
     "status": "completed"
    },
    "tags": []
   },
   "source": [
    "## **Training the CNN**\n",
    "### Compiling the CNN\n",
    "#### Attributes:\n",
    "- **optimizer:-** String (name of optimizer) or optimizer instance.\n",
    "- **loss:-** Loss function.\n",
    "- **metrics:-** List of metrics to be evaluated by the model during training and testing. "
   ]
  },
  {
   "cell_type": "code",
   "execution_count": 17,
   "id": "0562c757",
   "metadata": {
    "execution": {
     "iopub.execute_input": "2021-12-09T16:41:02.943095Z",
     "iopub.status.busy": "2021-12-09T16:41:02.939713Z",
     "iopub.status.idle": "2021-12-09T16:41:02.949428Z",
     "shell.execute_reply": "2021-12-09T16:41:02.948969Z",
     "shell.execute_reply.started": "2021-12-09T16:12:51.177472Z"
    },
    "papermill": {
     "duration": 0.038279,
     "end_time": "2021-12-09T16:41:02.949535",
     "exception": false,
     "start_time": "2021-12-09T16:41:02.911256",
     "status": "completed"
    },
    "tags": []
   },
   "outputs": [],
   "source": [
    "cnn.compile(optimizer = 'adam', loss = 'hinge', metrics = ['accuracy'])"
   ]
  },
  {
   "cell_type": "markdown",
   "id": "c5040c40",
   "metadata": {
    "papermill": {
     "duration": 0.024229,
     "end_time": "2021-12-09T16:41:02.997551",
     "exception": false,
     "start_time": "2021-12-09T16:41:02.973322",
     "status": "completed"
    },
    "tags": []
   },
   "source": [
    "### **Training the CNN on the Training set and evaluating it on the Test set**\n",
    "#### Attributes:-\n",
    "- **x:-** Input data\n",
    "- **validation_data:-** Data on which to evaluate the loss and any model metrics at the end of each epoch.\n",
    "- **epochs:-** Integer. Number of epochs to train the model."
   ]
  },
  {
   "cell_type": "code",
   "execution_count": 19,
   "id": "a5c20958",
   "metadata": {
    "execution": {
     "iopub.execute_input": "2021-12-09T16:41:03.048316Z",
     "iopub.status.busy": "2021-12-09T16:41:03.047651Z",
     "iopub.status.idle": "2021-12-09T16:50:57.545418Z",
     "shell.execute_reply": "2021-12-09T16:50:57.544964Z",
     "shell.execute_reply.started": "2021-12-09T16:12:51.189191Z"
    },
    "papermill": {
     "duration": 594.524275,
     "end_time": "2021-12-09T16:50:57.545558",
     "exception": false,
     "start_time": "2021-12-09T16:41:03.021283",
     "status": "completed"
    },
    "tags": []
   },
   "outputs": [
    {
     "name": "stdout",
     "output_type": "stream",
     "text": [
      "Epoch 1/5\n",
      "\u001b[1m782/782\u001b[0m \u001b[32m━━━━━━━━━━━━━━━━━━━━\u001b[0m\u001b[37m\u001b[0m \u001b[1m298s\u001b[0m 378ms/step - accuracy: 1.0000 - loss: 1.2184e-04 - val_accuracy: 1.0000 - val_loss: 3.6164e-05\n",
      "Epoch 2/5\n",
      "\u001b[1m782/782\u001b[0m \u001b[32m━━━━━━━━━━━━━━━━━━━━\u001b[0m\u001b[37m\u001b[0m \u001b[1m282s\u001b[0m 358ms/step - accuracy: 1.0000 - loss: 2.7973e-05 - val_accuracy: 1.0000 - val_loss: 2.7038e-04\n",
      "Epoch 3/5\n",
      "\u001b[1m782/782\u001b[0m \u001b[32m━━━━━━━━━━━━━━━━━━━━\u001b[0m\u001b[37m\u001b[0m \u001b[1m160s\u001b[0m 202ms/step - accuracy: 1.0000 - loss: 1.7085e-04 - val_accuracy: 1.0000 - val_loss: 2.6312e-05\n",
      "Epoch 4/5\n",
      "\u001b[1m782/782\u001b[0m \u001b[32m━━━━━━━━━━━━━━━━━━━━\u001b[0m\u001b[37m\u001b[0m \u001b[1m73s\u001b[0m 93ms/step - accuracy: 1.0000 - loss: 1.5913e-05 - val_accuracy: 1.0000 - val_loss: 1.7915e-06\n",
      "Epoch 5/5\n",
      "\u001b[1m782/782\u001b[0m \u001b[32m━━━━━━━━━━━━━━━━━━━━\u001b[0m\u001b[37m\u001b[0m \u001b[1m74s\u001b[0m 94ms/step - accuracy: 1.0000 - loss: 2.2798e-06 - val_accuracy: 1.0000 - val_loss: 5.0669e-04\n"
     ]
    }
   ],
   "source": [
    "r=cnn.fit(x = training_set, validation_data = test_set, epochs = 5)"
   ]
  },
  {
   "cell_type": "markdown",
   "id": "74cc779f",
   "metadata": {
    "papermill": {
     "duration": 0.975733,
     "end_time": "2021-12-09T16:50:59.495484",
     "exception": false,
     "start_time": "2021-12-09T16:50:58.519751",
     "status": "completed"
    },
    "tags": []
   },
   "source": [
    "## **Ploting the Train loss,val loss and train acc, val acc**"
   ]
  },
  {
   "cell_type": "code",
   "execution_count": 20,
   "id": "55120a1a",
   "metadata": {
    "execution": {
     "iopub.execute_input": "2021-12-09T16:51:01.730148Z",
     "iopub.status.busy": "2021-12-09T16:51:01.729056Z",
     "iopub.status.idle": "2021-12-09T16:51:02.110801Z",
     "shell.execute_reply": "2021-12-09T16:51:02.110380Z",
     "shell.execute_reply.started": "2021-12-09T16:21:59.058626Z"
    },
    "papermill": {
     "duration": 1.362963,
     "end_time": "2021-12-09T16:51:02.110951",
     "exception": false,
     "start_time": "2021-12-09T16:51:00.747988",
     "status": "completed"
    },
    "tags": []
   },
   "outputs": [
    {
     "data": {
      "image/png": "[encoded data removed]",
      "text/plain": [
       "<Figure size 640x480 with 1 Axes>"
      ]
     },
     "metadata": {},
     "output_type": "display_data"
    },
    {
     "data": {
      "image/png": "[encoded data removed]",
      "text/plain": [
       "<Figure size 640x480 with 1 Axes>"
      ]
     },
     "metadata": {},
     "output_type": "display_data"
    }
   ],
   "source": [
    "# plot the loss\n",
    "import matplotlib.pyplot as plt\n",
    "plt.plot(r.history['loss'], label='train loss')\n",
    "plt.plot(r.history['val_loss'], label='val loss')\n",
    "plt.legend()\n",
    "plt.show()\n",
    "\n",
    "# plot the accuracy\n",
    "plt.plot(r.history['accuracy'], label='train acc')\n",
    "plt.plot(r.history['val_accuracy'], label='val acc')\n",
    "plt.legend()\n",
    "plt.show()"
   ]
  },
  {
   "cell_type": "markdown",
   "id": "38a02d8a",
   "metadata": {
    "papermill": {
     "duration": 1.030247,
     "end_time": "2021-12-09T16:51:04.145472",
     "exception": false,
     "start_time": "2021-12-09T16:51:03.115225",
     "status": "completed"
    },
    "tags": []
   },
   "source": [
    "### **Saving the trained model**"
   ]
  },
  {
   "cell_type": "code",
   "execution_count": 21,
   "id": "29b453a2",
   "metadata": {
    "execution": {
     "iopub.execute_input": "2021-12-09T16:51:06.121683Z",
     "iopub.status.busy": "2021-12-09T16:51:06.120881Z",
     "iopub.status.idle": "2021-12-09T16:51:06.154749Z",
     "shell.execute_reply": "2021-12-09T16:51:06.155181Z",
     "shell.execute_reply.started": "2021-12-09T16:21:59.442276Z"
    },
    "papermill": {
     "duration": 1.009299,
     "end_time": "2021-12-09T16:51:06.155329",
     "exception": false,
     "start_time": "2021-12-09T16:51:05.146030",
     "status": "completed"
    },
    "tags": []
   },
   "outputs": [
    {
     "name": "stderr",
     "output_type": "stream",
     "text": [
      "WARNING:absl:You are saving your model as an HDF5 file via `model.save()` or `keras.saving.save_model(model)`. This file format is considered legacy. We recommend using instead the native Keras format, e.g. `model.save('my_model.keras')` or `keras.saving.save_model(model, 'my_model.keras')`. \n"
     ]
    }
   ],
   "source": [
    "from tensorflow.keras.models import load_model\n",
    "\n",
    "cnn.save('./classification.h5')"
   ]
  },
  {
   "cell_type": "markdown",
   "id": "4cfe44ad",
   "metadata": {
    "papermill": {
     "duration": 0.981247,
     "end_time": "2021-12-09T16:51:08.117173",
     "exception": false,
     "start_time": "2021-12-09T16:51:07.135926",
     "status": "completed"
    },
    "tags": []
   },
   "source": [
    "### **Taking the sample image converting the image to an array and predicting the result**"
   ]
  },
  {
   "cell_type": "code",
   "execution_count": 24,
   "id": "a83444f5",
   "metadata": {
    "execution": {
     "iopub.execute_input": "2021-12-09T16:51:10.073824Z",
     "iopub.status.busy": "2021-12-09T16:51:10.073310Z",
     "iopub.status.idle": "2021-12-09T16:51:10.204002Z",
     "shell.execute_reply": "2021-12-09T16:51:10.203517Z",
     "shell.execute_reply.started": "2021-12-09T16:21:59.599041Z"
    },
    "papermill": {
     "duration": 1.111535,
     "end_time": "2021-12-09T16:51:10.204136",
     "exception": false,
     "start_time": "2021-12-09T16:51:09.092601",
     "status": "completed"
    },
    "tags": []
   },
   "outputs": [
    {
     "name": "stdout",
     "output_type": "stream",
     "text": [
      "\u001b[1m1/1\u001b[0m \u001b[32m━━━━━━━━━━━━━━━━━━━━\u001b[0m\u001b[37m\u001b[0m \u001b[1m0s\u001b[0m 86ms/step\n"
     ]
    }
   ],
   "source": [
    "from tensorflow.keras.preprocessing import image\n",
    "test_image = image.load_img('Data/test1/test1/7.jpg', target_size = (64,64))\n",
    "test_image = image.img_to_array(test_image)\n",
    "test_image=test_image/255\n",
    "test_image = np.expand_dims(test_image, axis = 0)\n",
    "result = cnn.predict(test_image)\n"
   ]
  },
  {
   "cell_type": "code",
   "execution_count": 25,
   "id": "740cd2d7",
   "metadata": {},
   "outputs": [
    {
     "name": "stdout",
     "output_type": "stream",
     "text": [
      "The image classified is cat\n"
     ]
    }
   ],
   "source": [
    "if result[0]<0:\n",
    "    print(\"The image classified is cat\")\n",
    "else:\n",
    "    print(\"The image classified is dog\")"
   ]
  },
  {
   "cell_type": "code",
   "execution_count": 28,
   "id": "27f4cef3",
   "metadata": {},
   "outputs": [
    {
     "name": "stdout",
     "output_type": "stream",
     "text": [
      "\u001b[1m1/1\u001b[0m \u001b[32m━━━━━━━━━━━━━━━━━━━━\u001b[0m\u001b[37m\u001b[0m \u001b[1m0s\u001b[0m 33ms/step\n"
     ]
    }
   ],
   "source": [
    "from tensorflow.keras.preprocessing import image\n",
    "test_image = image.load_img('Data/test1/test1/12488.jpg', target_size = (64,64))\n",
    "test_image = image.img_to_array(test_image)\n",
    "test_image=test_image/255\n",
    "test_image = np.expand_dims(test_image, axis = 0)\n",
    "result = cnn.predict(test_image)\n"
   ]
  },
  {
   "cell_type": "code",
   "execution_count": 27,
   "id": "7de03a0c",
   "metadata": {
    "execution": {
     "iopub.execute_input": "2021-12-09T16:51:12.440582Z",
     "iopub.status.busy": "2021-12-09T16:51:12.438791Z",
     "iopub.status.idle": "2021-12-09T16:51:12.443143Z",
     "shell.execute_reply": "2021-12-09T16:51:12.442499Z",
     "shell.execute_reply.started": "2021-12-09T16:21:59.695901Z"
    },
    "papermill": {
     "duration": 0.982728,
     "end_time": "2021-12-09T16:51:12.443295",
     "exception": false,
     "start_time": "2021-12-09T16:51:11.460567",
     "status": "completed"
    },
    "tags": []
   },
   "outputs": [
    {
     "name": "stdout",
     "output_type": "stream",
     "text": [
      "The image classified is cat\n"
     ]
    }
   ],
   "source": [
    "if result[0]<0:\n",
    "    print(\"The image classified is cat\")\n",
    "else:\n",
    "    print(\"The image classified is dog\")"
   ]
  },
  {
   "cell_type": "code",
   "execution_count": null,
   "id": "a027cb38",
   "metadata": {},
   "outputs": [],
   "source": []
  },
  {
   "cell_type": "code",
   "execution_count": null,
   "id": "042699d5",
   "metadata": {},
   "outputs": [],
   "source": []
  },
  {
   "cell_type": "code",
   "execution_count": null,
   "id": "99eb7e05",
   "metadata": {},
   "outputs": [],
   "source": []
  }
 ],
 "metadata": {
  "kernelspec": {
   "display_name": "Python 3",
   "language": "python",
   "name": "python3"
  },
  "language_info": {
   "codemirror_mode": {
    "name": "ipython",
    "version": 3
   },
   "file_extension": ".py",
   "mimetype": "text/x-python",
   "name": "python",
   "nbconvert_exporter": "python",
   "pygments_lexer": "ipython3",
   "version": "3.11.7"
  },
  "papermill": {
   "default_parameters": {},
   "duration": 635.069725,
   "end_time": "2021-12-09T16:51:18.907455",
   "environment_variables": {},
   "exception": null,
   "input_path": "__notebook__.ipynb",
   "output_path": "__notebook__.ipynb",
   "parameters": {},
   "start_time": "2021-12-09T16:40:43.837730",
   "version": "2.3.3"
  }
 },
 "nbformat": 4,
 "nbformat_minor": 5
}
